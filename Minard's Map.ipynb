{
 "cells": [
  {
   "cell_type": "code",
   "execution_count": 2,
   "metadata": {},
   "outputs": [],
   "source": [
    "import pandas as pd\n",
    "\n",
    "\n",
    "data = pd.read_excel('minard-data.xlsx')"
   ]
  },
  {
   "cell_type": "code",
   "execution_count": 3,
   "metadata": {},
   "outputs": [
    {
     "data": {
      "text/html": [
       "<div>\n",
       "<style scoped>\n",
       "    .dataframe tbody tr th:only-of-type {\n",
       "        vertical-align: middle;\n",
       "    }\n",
       "\n",
       "    .dataframe tbody tr th {\n",
       "        vertical-align: top;\n",
       "    }\n",
       "\n",
       "    .dataframe thead th {\n",
       "        text-align: right;\n",
       "    }\n",
       "</style>\n",
       "<table border=\"1\" class=\"dataframe\">\n",
       "  <thead>\n",
       "    <tr style=\"text-align: right;\">\n",
       "      <th></th>\n",
       "      <th>LONC</th>\n",
       "      <th>LATC</th>\n",
       "      <th>CITY</th>\n",
       "      <th>LONT</th>\n",
       "      <th>TEMP</th>\n",
       "      <th>DAYS</th>\n",
       "      <th>MON</th>\n",
       "      <th>DAY</th>\n",
       "      <th>LONP</th>\n",
       "      <th>LATP</th>\n",
       "      <th>SURV</th>\n",
       "      <th>DIR</th>\n",
       "      <th>DIV</th>\n",
       "    </tr>\n",
       "  </thead>\n",
       "  <tbody>\n",
       "    <tr>\n",
       "      <th>0</th>\n",
       "      <td>24.0</td>\n",
       "      <td>55.0</td>\n",
       "      <td>Kowno</td>\n",
       "      <td>37.6</td>\n",
       "      <td>0.0</td>\n",
       "      <td>6.0</td>\n",
       "      <td>Oct</td>\n",
       "      <td>18.0</td>\n",
       "      <td>24.0</td>\n",
       "      <td>54.9</td>\n",
       "      <td>340000</td>\n",
       "      <td>A</td>\n",
       "      <td>1</td>\n",
       "    </tr>\n",
       "    <tr>\n",
       "      <th>1</th>\n",
       "      <td>25.3</td>\n",
       "      <td>54.7</td>\n",
       "      <td>Wilna</td>\n",
       "      <td>36.0</td>\n",
       "      <td>0.0</td>\n",
       "      <td>6.0</td>\n",
       "      <td>Oct</td>\n",
       "      <td>24.0</td>\n",
       "      <td>24.5</td>\n",
       "      <td>55.0</td>\n",
       "      <td>340000</td>\n",
       "      <td>A</td>\n",
       "      <td>1</td>\n",
       "    </tr>\n",
       "    <tr>\n",
       "      <th>2</th>\n",
       "      <td>26.4</td>\n",
       "      <td>54.4</td>\n",
       "      <td>Smorgoni</td>\n",
       "      <td>33.2</td>\n",
       "      <td>-9.0</td>\n",
       "      <td>16.0</td>\n",
       "      <td>Nov</td>\n",
       "      <td>9.0</td>\n",
       "      <td>25.5</td>\n",
       "      <td>54.5</td>\n",
       "      <td>340000</td>\n",
       "      <td>A</td>\n",
       "      <td>1</td>\n",
       "    </tr>\n",
       "    <tr>\n",
       "      <th>3</th>\n",
       "      <td>26.8</td>\n",
       "      <td>54.3</td>\n",
       "      <td>Molodexno</td>\n",
       "      <td>32.0</td>\n",
       "      <td>-21.0</td>\n",
       "      <td>5.0</td>\n",
       "      <td>Nov</td>\n",
       "      <td>14.0</td>\n",
       "      <td>26.0</td>\n",
       "      <td>54.7</td>\n",
       "      <td>320000</td>\n",
       "      <td>A</td>\n",
       "      <td>1</td>\n",
       "    </tr>\n",
       "    <tr>\n",
       "      <th>4</th>\n",
       "      <td>27.7</td>\n",
       "      <td>55.2</td>\n",
       "      <td>Gloubokoe</td>\n",
       "      <td>29.2</td>\n",
       "      <td>-11.0</td>\n",
       "      <td>10.0</td>\n",
       "      <td>NaN</td>\n",
       "      <td>NaN</td>\n",
       "      <td>27.0</td>\n",
       "      <td>54.8</td>\n",
       "      <td>300000</td>\n",
       "      <td>A</td>\n",
       "      <td>1</td>\n",
       "    </tr>\n",
       "  </tbody>\n",
       "</table>\n",
       "</div>"
      ],
      "text/plain": [
       "   LONC  LATC       CITY  LONT  TEMP  DAYS  MON   DAY  LONP  LATP    SURV DIR  \\\n",
       "0  24.0  55.0      Kowno  37.6   0.0   6.0  Oct  18.0  24.0  54.9  340000   A   \n",
       "1  25.3  54.7      Wilna  36.0   0.0   6.0  Oct  24.0  24.5  55.0  340000   A   \n",
       "2  26.4  54.4   Smorgoni  33.2  -9.0  16.0  Nov   9.0  25.5  54.5  340000   A   \n",
       "3  26.8  54.3  Molodexno  32.0 -21.0   5.0  Nov  14.0  26.0  54.7  320000   A   \n",
       "4  27.7  55.2  Gloubokoe  29.2 -11.0  10.0  NaN   NaN  27.0  54.8  300000   A   \n",
       "\n",
       "   DIV  \n",
       "0    1  \n",
       "1    1  \n",
       "2    1  \n",
       "3    1  \n",
       "4    1  "
      ]
     },
     "execution_count": 3,
     "metadata": {},
     "output_type": "execute_result"
    }
   ],
   "source": [
    "data.head()"
   ]
  },
  {
   "cell_type": "code",
   "execution_count": 1,
   "metadata": {},
   "outputs": [
    {
     "data": {
      "text/plain": [
       "<matplotlib.legend.Legend at 0x18fd95f08d0>"
      ]
     },
     "execution_count": 1,
     "metadata": {},
     "output_type": "execute_result"
    },
    {
     "data": {
      "image/png": "[encoded data removed]",
      "text/plain": [
       "<Figure size 432x288 with 1 Axes>"
      ]
     },
     "metadata": {
      "needs_background": "light"
     },
     "output_type": "display_data"
    }
   ],
   "source": [
    "import numpy as np\n",
    "import matplotlib.pyplot as plt\n",
    " \n",
    "\n",
    "x = data['CITY']\n",
    "y=[ [1,4,6,8,9], [2,2,7,10,12], [2,8,5,10,6] ]\n",
    "\n",
    "\n",
    "plt.stackplot(x,y, labels=['A','B','C'])\n",
    "plt.legend(loc='upper left')\n"
   ]
  },
  {
   "cell_type": "code",
   "execution_count": null,
   "metadata": {},
   "outputs": [],
   "source": []
  }
 ],
 "metadata": {
  "kernelspec": {
   "display_name": "Python 3",
   "language": "python",
   "name": "python3"
  },
  "language_info": {
   "codemirror_mode": {
    "name": "ipython",
    "version": 3
   },
   "file_extension": ".py",
   "mimetype": "text/x-python",
   "name": "python",
   "nbconvert_exporter": "python",
   "pygments_lexer": "ipython3",
   "version": "3.7.3"
  }
 },
 "nbformat": 4,
 "nbformat_minor": 2
}
